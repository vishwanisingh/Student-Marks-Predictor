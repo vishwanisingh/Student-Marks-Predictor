{
 "cells": [
  {
   "cell_type": "code",
   "execution_count": 1,
   "metadata": {},
   "outputs": [
    {
     "data": {
      "text/plain": [
       "'\\nEstimates real world values like cost of houses, no. of calls, sales based on continuous variables.\\nEstablish relationship between dependent and independent variables by fitting a best line.\\nThe line of best fit is known as regression line Y=a*X+b\\nY - dependent variable\\na - slope\\nX - independent variable\\nb - intercept\\na and b are derived by minimizing sum of squared difference of distance between data points and regression line.\\n'"
      ]
     },
     "execution_count": 1,
     "metadata": {},
     "output_type": "execute_result"
    }
   ],
   "source": [
    "'''\n",
    "Estimates real world values like cost of houses, no. of calls, sales based on continuous variables.\n",
    "Establish relationship between dependent and independent variables by fitting a best line.\n",
    "The line of best fit is known as regression line Y=a*X+b\n",
    "Y - dependent variable\n",
    "a - slope\n",
    "X - independent variable\n",
    "b - intercept\n",
    "a and b are derived by minimizing sum of squared difference of distance between data points and regression line.\n",
    "Gives continuous output. Eg- house price\n",
    "Estimated using OLS -ordinary least squares method.\n",
    "'''"
   ]
  },
  {
   "cell_type": "code",
   "execution_count": 2,
   "metadata": {},
   "outputs": [
    {
     "data": {
      "text/plain": [
       "'\\nTypes of linear regression:\\n1. Simple linear regression - 1 independent variable\\n2. Multiple linear regression - more than 1 independent variable'"
      ]
     },
     "execution_count": 2,
     "metadata": {},
     "output_type": "execute_result"
    }
   ],
   "source": [
    "'''\n",
    "Types of linear regression:\n",
    "1. Simple linear regression - 1 independent variable\n",
    "2. Multiple linear regression - more than 1 independent variable'''"
   ]
  },
  {
   "cell_type": "code",
   "execution_count": 3,
   "metadata": {},
   "outputs": [],
   "source": [
    "# Implement linear regression algorithm"
   ]
  },
  {
   "cell_type": "code",
   "execution_count": 4,
   "metadata": {},
   "outputs": [],
   "source": [
    "import numpy as np\n",
    "import matplotlib.pyplot as plt"
   ]
  },
  {
   "cell_type": "code",
   "execution_count": 5,
   "metadata": {},
   "outputs": [
    {
     "data": {
      "text/plain": [
       "'slope = [mean(x)*mean(y)-mean(xy)]/[mean(x)*mean(x)-mean(x*x)]\\nb=mean(y)-mean(x)*slope\\n'"
      ]
     },
     "execution_count": 5,
     "metadata": {},
     "output_type": "execute_result"
    }
   ],
   "source": [
    "'''slope = [mean(x)*mean(y)-mean(xy)]/[mean(x)*mean(x)-mean(x*x)]\n",
    "b=mean(y)-mean(x)*slope\n",
    "'''"
   ]
  },
  {
   "cell_type": "code",
   "execution_count": 6,
   "metadata": {},
   "outputs": [],
   "source": [
    "def slope_intercept(x_val, y_val):\n",
    "    x=np.array(xs)\n",
    "    y=np.array(ys)\n",
    "    slope=(((np.mean(x)*np.mean(y))-np.mean(x*y))/((np.mean(x)*np.mean(x))-np.mean(x*x)))\n",
    "    slope=round(slope,2)\n",
    "    intercept=(np.mean(y)-np.mean(x)*slope)\n",
    "    intercept=round(intercept,2)\n",
    "    return slope, intercept"
   ]
  },
  {
   "cell_type": "code",
   "execution_count": 7,
   "metadata": {},
   "outputs": [
    {
     "data": {
      "image/png": "[encoded data removed]",
      "text/plain": [
       "<Figure size 432x288 with 1 Axes>"
      ]
     },
     "metadata": {
      "needs_background": "light"
     },
     "output_type": "display_data"
    }
   ],
   "source": [
    "xs=[2,3,4,5,6,7,8,9,10,11,12,13,14,15,16,17,18,19,20,21,22,23,24,25]\n",
    "ys=[10,12,20,22,21,25,30,21,32,34,35,30,50,45,55,60,66,64,67,72,74,80,79,84]\n",
    "a,b=slope_intercept(xs, ys) #calling slope_intercept\n",
    "reg_line=[(a*x)+b for x in xs]\n",
    "plt.scatter(xs,ys, color='r')\n",
    "plt.plot(xs,reg_line)\n",
    "plt.title(\"Linear regression\")\n",
    "plt.xlabel(\"Independent variables\")\n",
    "plt.ylabel(\"Dependent variables\")\n",
    "plt.show()"
   ]
  }
 ],
 "metadata": {
  "kernelspec": {
   "display_name": "Python 3",
   "language": "python",
   "name": "python3"
  },
  "language_info": {
   "codemirror_mode": {
    "name": "ipython",
    "version": 3
   },
   "file_extension": ".py",
   "mimetype": "text/x-python",
   "name": "python",
   "nbconvert_exporter": "python",
   "pygments_lexer": "ipython3",
   "version": "3.8.6"
  }
 },
 "nbformat": 4,
 "nbformat_minor": 4
}
